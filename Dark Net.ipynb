{
 "cells": [
  {
   "cell_type": "markdown",
   "metadata": {},
   "source": [
    "## Dark Net Capstone\n",
    "This dataset contains Dark Net purchases made on the Agora marketplace from 2014 - 2015. First, it is important to\n",
    "understand what the \"Dark Net\" or \"Dark Web\" means. The Dark Net is an overlay network that can only be accessed\n",
    "with specific software or authorization. Marketplaces on this net specialize in illegal goods and services, such as drugs\n",
    "computer hacking, and weapons sales. Goods and services are typically paid with the cryptocurrency bitcoin. \n",
    "\n",
    "This dataset was exported from Kaggle. I believe data is interestng on many levels. First, bitcoin has grown in popularity\n",
    "recently with many known retailers accepting bitcoin as an alternate form of payment to cash and credit cards. \n",
    "However, bitcoin's origins are closely tied with the Dark Net and the illegal purchases made on its marketplaces with \n",
    "bitcoin being the medium of exchange. \n",
    "Secondly, the Dark Net is not a topic that is particularly mainstream and thus not particularly well known. Unlike\n",
    "publically traded companies and stock market info, transactions on the Dark Net are not disclosed quarterly. I've been \n",
    "curious as to what exactly is sold on the Dark Net and how much people spend on it.\n",
    "\n",
    "The data from Kaggle was somewhat dirty and has flaws. The price data in the dataset was originally\n",
    "expressed all in bitcoin. For simplicity, I have converted the transactions to USD. \n",
    "At the start of 2014, the price of 1 bitcoin was approximately $750 USD. It must be noted that the price of bitcoin is \n",
    "highly volatile. As such, the USD prices shown may not be entirely accurate. Also, abnormally high prices will be excluded\n",
    "as these prices could be faked or are wrong. \n",
    "\n",
    "Questions to answer: 1. What is purchased the most on the Dark Net? 2. What subcategories are purchased the most on the \n",
    "Dark Net? 3. What Vendor makes the most sales on the Dark Net?"
   ]
  },
  {
   "cell_type": "code",
   "execution_count": 40,
   "metadata": {},
   "outputs": [],
   "source": [
    "import numpy as np\n",
    "import pandas as pd\n",
    "import matplotlib.pyplot as plt\n",
    "% matplotlib inline\n",
    "import scipy"
   ]
  },
  {
   "cell_type": "markdown",
   "metadata": {},
   "source": [
    "## Dark Net Purchases made between 2014 - 2015\n",
    "### What good/service is purchased the most on the Dark Net?\n",
    "\n",
    "The following code will show what good or service was purchased the most on the Dark Net as well as the average sale price\n",
    "and the highest priced sale in the data set"
   ]
  },
  {
   "cell_type": "code",
   "execution_count": 41,
   "metadata": {},
   "outputs": [
    {
     "data": {
      "image/png": "[encoded data removed]",
      "text/plain": [
       "<matplotlib.figure.Figure at 0x106886a0>"
      ]
     },
     "metadata": {},
     "output_type": "display_data"
    }
   ],
   "source": [
    "df = pd.read_csv('Darkweb_data_v7.csv')\n",
    "plt.figure(figsize=(20,8))\n",
    "plt.plot(df.groupby('SubCat 1').count(), color='blue')\n",
    "plt.title('Dark Net Categories and Volume')\n",
    "plt.ylabel('Volume')\n",
    "plt.xlabel('Category')\n",
    "plt.show()"
   ]
  },
  {
   "cell_type": "code",
   "execution_count": 42,
   "metadata": {},
   "outputs": [
    {
     "name": "stdout",
     "output_type": "stream",
     "text": [
      "0.848279006155\n"
     ]
    }
   ],
   "source": [
    "Category = df['Category'].count()\n",
    "Drug_Category = df.loc[lambda df: df['SubCat 1'] == 'Drugs', :].count()\n",
    "print(Drug_Category.loc['Category'] / Category)"
   ]
  },
  {
   "cell_type": "code",
   "execution_count": 43,
   "metadata": {},
   "outputs": [
    {
     "data": {
      "text/plain": [
       "18737.102056319654"
      ]
     },
     "execution_count": 43,
     "metadata": {},
     "output_type": "execute_result"
    }
   ],
   "source": [
    "df_drug = df.loc[lambda df: df['SubCat 1'] == 'Drugs', :]\n",
    "df_drug['USD Price'].mean()"
   ]
  },
  {
   "cell_type": "code",
   "execution_count": 44,
   "metadata": {},
   "outputs": [
    {
     "data": {
      "text/plain": [
       "97797067.269999996"
      ]
     },
     "execution_count": 44,
     "metadata": {},
     "output_type": "execute_result"
    }
   ],
   "source": [
    "df_drug['USD Price'].max()"
   ]
  },
  {
   "cell_type": "markdown",
   "metadata": {},
   "source": [
    "Findings: Drugs are the most purchased item on the Dark Net. In fact, looking at the data hollistically, there is a 85% chance that a good purchased on the Dark Net was a drug. The average sale price of all items sold is approximately 19K USD and the most expensive item sold in this data set was 97M USD."
   ]
  },
  {
   "cell_type": "markdown",
   "metadata": {},
   "source": [
    "## Drug Purchases 1K USD or less\n",
    "### What type of drug was purchased most often?\n",
    "\n",
    "The following code will show what the average drug sale price as well as what type of drugs were purchased the most on the Dark Net. Note: we are only analyzing drug purchases 1K USD or less in the attempt to remove outliers and erroneous data."
   ]
  },
  {
   "cell_type": "code",
   "execution_count": 45,
   "metadata": {},
   "outputs": [
    {
     "data": {
      "text/plain": [
       "279.90429033577539"
      ]
     },
     "execution_count": 45,
     "metadata": {},
     "output_type": "execute_result"
    }
   ],
   "source": [
    "df2 = df_drug.loc[lambda df: df_drug['USD Price'] <= 1000, :]\n",
    "df2['USD Price'].mean()"
   ]
  },
  {
   "cell_type": "code",
   "execution_count": 46,
   "metadata": {},
   "outputs": [
    {
     "data": {
      "text/html": [
       "<div>\n",
       "<style scoped>\n",
       "    .dataframe tbody tr th:only-of-type {\n",
       "        vertical-align: middle;\n",
       "    }\n",
       "\n",
       "    .dataframe tbody tr th {\n",
       "        vertical-align: top;\n",
       "    }\n",
       "\n",
       "    .dataframe thead th {\n",
       "        text-align: right;\n",
       "    }\n",
       "</style>\n",
       "<table border=\"1\" class=\"dataframe\">\n",
       "  <thead>\n",
       "    <tr style=\"text-align: right;\">\n",
       "      <th></th>\n",
       "      <th>Vendor</th>\n",
       "      <th>Category</th>\n",
       "      <th>SubCat 1</th>\n",
       "      <th>Price</th>\n",
       "      <th>Bitcoin Price</th>\n",
       "      <th>USD Price</th>\n",
       "    </tr>\n",
       "    <tr>\n",
       "      <th>SubCat2</th>\n",
       "      <th></th>\n",
       "      <th></th>\n",
       "      <th></th>\n",
       "      <th></th>\n",
       "      <th></th>\n",
       "      <th></th>\n",
       "    </tr>\n",
       "  </thead>\n",
       "  <tbody>\n",
       "    <tr>\n",
       "      <th>Cannabis</th>\n",
       "      <td>22831</td>\n",
       "      <td>22831</td>\n",
       "      <td>22831</td>\n",
       "      <td>22831</td>\n",
       "      <td>22831</td>\n",
       "      <td>22831</td>\n",
       "    </tr>\n",
       "    <tr>\n",
       "      <th>Ecstasy</th>\n",
       "      <td>9229</td>\n",
       "      <td>9229</td>\n",
       "      <td>9229</td>\n",
       "      <td>9229</td>\n",
       "      <td>9229</td>\n",
       "      <td>9229</td>\n",
       "    </tr>\n",
       "    <tr>\n",
       "      <th>Stimulants</th>\n",
       "      <td>8723</td>\n",
       "      <td>8723</td>\n",
       "      <td>8723</td>\n",
       "      <td>8723</td>\n",
       "      <td>8723</td>\n",
       "      <td>8723</td>\n",
       "    </tr>\n",
       "    <tr>\n",
       "      <th>Psychedelics</th>\n",
       "      <td>6523</td>\n",
       "      <td>6523</td>\n",
       "      <td>6523</td>\n",
       "      <td>6523</td>\n",
       "      <td>6523</td>\n",
       "      <td>6523</td>\n",
       "    </tr>\n",
       "    <tr>\n",
       "      <th>Opioids</th>\n",
       "      <td>5108</td>\n",
       "      <td>5108</td>\n",
       "      <td>5108</td>\n",
       "      <td>5108</td>\n",
       "      <td>5108</td>\n",
       "      <td>5108</td>\n",
       "    </tr>\n",
       "    <tr>\n",
       "      <th>Prescription</th>\n",
       "      <td>4904</td>\n",
       "      <td>4904</td>\n",
       "      <td>4904</td>\n",
       "      <td>4904</td>\n",
       "      <td>4904</td>\n",
       "      <td>4904</td>\n",
       "    </tr>\n",
       "    <tr>\n",
       "      <th>Benzos</th>\n",
       "      <td>4203</td>\n",
       "      <td>4203</td>\n",
       "      <td>4203</td>\n",
       "      <td>4203</td>\n",
       "      <td>4203</td>\n",
       "      <td>4203</td>\n",
       "    </tr>\n",
       "    <tr>\n",
       "      <th>Steroids</th>\n",
       "      <td>2444</td>\n",
       "      <td>2444</td>\n",
       "      <td>2444</td>\n",
       "      <td>2444</td>\n",
       "      <td>2444</td>\n",
       "      <td>2444</td>\n",
       "    </tr>\n",
       "    <tr>\n",
       "      <th>RCs</th>\n",
       "      <td>1367</td>\n",
       "      <td>1367</td>\n",
       "      <td>1367</td>\n",
       "      <td>1367</td>\n",
       "      <td>1367</td>\n",
       "      <td>1367</td>\n",
       "    </tr>\n",
       "    <tr>\n",
       "      <th>Dissociatives</th>\n",
       "      <td>1171</td>\n",
       "      <td>1171</td>\n",
       "      <td>1171</td>\n",
       "      <td>1171</td>\n",
       "      <td>1171</td>\n",
       "      <td>1171</td>\n",
       "    </tr>\n",
       "    <tr>\n",
       "      <th>Other</th>\n",
       "      <td>688</td>\n",
       "      <td>688</td>\n",
       "      <td>688</td>\n",
       "      <td>688</td>\n",
       "      <td>688</td>\n",
       "      <td>688</td>\n",
       "    </tr>\n",
       "    <tr>\n",
       "      <th>Weight loss</th>\n",
       "      <td>228</td>\n",
       "      <td>228</td>\n",
       "      <td>228</td>\n",
       "      <td>228</td>\n",
       "      <td>228</td>\n",
       "      <td>228</td>\n",
       "    </tr>\n",
       "    <tr>\n",
       "      <th>Barbiturates</th>\n",
       "      <td>25</td>\n",
       "      <td>25</td>\n",
       "      <td>25</td>\n",
       "      <td>25</td>\n",
       "      <td>25</td>\n",
       "      <td>25</td>\n",
       "    </tr>\n",
       "  </tbody>\n",
       "</table>\n",
       "</div>"
      ],
      "text/plain": [
       "               Vendor  Category  SubCat 1  Price  Bitcoin Price  USD Price\n",
       "SubCat2                                                                   \n",
       "Cannabis        22831     22831     22831  22831          22831      22831\n",
       "Ecstasy          9229      9229      9229   9229           9229       9229\n",
       "Stimulants       8723      8723      8723   8723           8723       8723\n",
       "Psychedelics     6523      6523      6523   6523           6523       6523\n",
       "Opioids          5108      5108      5108   5108           5108       5108\n",
       "Prescription     4904      4904      4904   4904           4904       4904\n",
       "Benzos           4203      4203      4203   4203           4203       4203\n",
       "Steroids         2444      2444      2444   2444           2444       2444\n",
       "RCs              1367      1367      1367   1367           1367       1367\n",
       "Dissociatives    1171      1171      1171   1171           1171       1171\n",
       "Other             688       688       688    688            688        688\n",
       "Weight loss       228       228       228    228            228        228\n",
       "Barbiturates       25        25        25     25             25         25"
      ]
     },
     "execution_count": 46,
     "metadata": {},
     "output_type": "execute_result"
    }
   ],
   "source": [
    "df2.groupby('SubCat2').count().sort_values(by=['USD Price'], ascending = False)"
   ]
  },
  {
   "cell_type": "code",
   "execution_count": 47,
   "metadata": {},
   "outputs": [
    {
     "data": {
      "text/plain": [
       "SubCat2\n",
       "Barbiturates    6.331801e+03\n",
       "Benzos          9.940419e+05\n",
       "Cannabis        6.506321e+06\n",
       "Name: USD Price, dtype: float64"
      ]
     },
     "execution_count": 47,
     "metadata": {},
     "output_type": "execute_result"
    }
   ],
   "source": [
    "drug_type = df2.groupby('SubCat2').sum()\n",
    "drug_type.loc[:, 'USD Price'].head(n=3)"
   ]
  },
  {
   "cell_type": "code",
   "execution_count": 48,
   "metadata": {},
   "outputs": [
    {
     "data": {
      "image/png": "[encoded data removed]",
      "text/plain": [
       "<matplotlib.figure.Figure at 0x147837b8>"
      ]
     },
     "metadata": {},
     "output_type": "display_data"
    }
   ],
   "source": [
    "plt.figure(figsize=(20,8))\n",
    "plt.plot(drug_type.loc[:, 'USD Price'], color='red')\n",
    "plt.title('Drug Categories')\n",
    "plt.ylabel('USD Price')\n",
    "plt.xlabel('Drug')\n",
    "plt.show()"
   ]
  },
  {
   "cell_type": "markdown",
   "metadata": {},
   "source": [
    "Findings: Cannabis was the most purchased drug in terms of volume and overall sales. The top 3 purchased drugs by overall sales was Cannabis, Ecstasy, and Stimulants, in that order."
   ]
  },
  {
   "cell_type": "markdown",
   "metadata": {},
   "source": [
    "## Top 3 Drug Sales on the Dark Net\n",
    "### What were the overall and average sales for the top 3 drugs sold on the Dark Net\n",
    "\n",
    "The following code will show the total, mean, and standard deviations for the top 3 drugs sold on the Dark Net. Additionally, we will see the distribution of the top 3 drugs sold with histograms. Note: we are only analyzing drug purchases 1K USD or less in the attempt to remove outliers and erroneous data."
   ]
  },
  {
   "cell_type": "code",
   "execution_count": 49,
   "metadata": {},
   "outputs": [
    {
     "name": "stdout",
     "output_type": "stream",
     "text": [
      "6506321.11142\n",
      "284.977491631\n",
      "2902564.16917\n",
      "314.504731734\n",
      "2725010.62985\n",
      "312.393744107\n"
     ]
    }
   ],
   "source": [
    "Cannabis = df2.loc[lambda df: df2['SubCat2'] == 'Cannabis', :]\n",
    "Cannabis_sum = Cannabis['USD Price'].sum()\n",
    "Cannabis_avg = Cannabis['USD Price'].mean()\n",
    "print(Cannabis_sum)\n",
    "print(Cannabis_avg)\n",
    "\n",
    "Ecstasy = df2.loc[lambda df: df2['SubCat2'] == 'Ecstasy', :]\n",
    "Ecstasy_sum = Ecstasy['USD Price'].sum()\n",
    "Ecstasy_avg = Ecstasy['USD Price'].mean()\n",
    "print(Ecstasy_sum)\n",
    "print(Ecstasy_avg)\n",
    "\n",
    "Stimulants = df2.loc[lambda df: df2['SubCat2'] == 'Stimulants', :]\n",
    "Stim_sum = Stimulants['USD Price'].sum()\n",
    "Stim_avg = Stimulants['USD Price'].mean()\n",
    "print(Stim_sum)\n",
    "print(Stim_avg)"
   ]
  },
  {
   "cell_type": "code",
   "execution_count": 50,
   "metadata": {},
   "outputs": [
    {
     "data": {
      "image/png": "[encoded data removed]",
      "text/plain": [
       "<matplotlib.figure.Figure at 0x151700b8>"
      ]
     },
     "metadata": {},
     "output_type": "display_data"
    }
   ],
   "source": [
    "plt.figure(figsize=(15, 5))\n",
    "\n",
    "plt.subplot(1,3,1)\n",
    "plt.hist(Cannabis['USD Price'], color = 'green')\n",
    "plt.title('Cannabis')\n",
    "plt.xlabel('USD Price $')\n",
    "plt.ylabel('Count')\n",
    "plt.axvline(Cannabis_avg, color = 'b', linestyle='solid')\n",
    "plt.axvline(Cannabis_avg - Cannabis['USD Price'].std(), color = 'b', linestyle='dashed')\n",
    "plt.axvline(Cannabis_avg + Cannabis['USD Price'].std(), color = 'b', linestyle='dashed')\n",
    "\n",
    "plt.subplot(1,3,2)\n",
    "plt.hist(Ecstasy['USD Price'], color = 'red')\n",
    "plt.title('Ecstasy')\n",
    "plt.xlabel('USD Price $')\n",
    "plt.ylabel('Count')\n",
    "plt.axvline(Ecstasy_avg, color = 'b', linestyle='solid')\n",
    "plt.axvline(Ecstasy_avg - Ecstasy['USD Price'].std(), color = 'b', linestyle='dashed')\n",
    "plt.axvline(Ecstasy_avg + Ecstasy['USD Price'].std(), color = 'b', linestyle='dashed')\n",
    "\n",
    "plt.subplot(1,3,3)\n",
    "plt.hist(Stimulants['USD Price'], color = 'purple')\n",
    "plt.title('Stimulants')\n",
    "plt.xlabel('USD Price $')\n",
    "plt.ylabel('Count')\n",
    "plt.axvline(Stim_avg, color = 'b', linestyle='solid')\n",
    "plt.axvline(Stim_avg - Stimulants['USD Price'].std(), color = 'b', linestyle='dashed')\n",
    "plt.axvline(Stim_avg + Stimulants['USD Price'].std(), color = 'b', linestyle='dashed')\n",
    "plt.show()"
   ]
  },
  {
   "cell_type": "markdown",
   "metadata": {},
   "source": [
    "Findings: Cannbis was the most bought drug on the dark net accounting for 6.5M USD and an average price of 284 USD. The average price of ecstacy was higher than that of Cannbis at 314 USD. Total Ecstasy sales equal 2.9M USD. Overall sales of stimulants were close to those of Ecstacy at 2.7M USD and an average sale price of 312 USD. Interesting that Cannabis is so widely popular on the dark net, total sales over 2x of Ecstasy sales.\n",
    "\n",
    "Not surprisingy, most sales for all top 3 drugs were in the 0 - 200 USD range. "
   ]
  },
  {
   "cell_type": "markdown",
   "metadata": {},
   "source": [
    "## Cannabis Sales by Vendor 2014 - 2015\n",
    "### What Vendor sold the most Cannabis on the Dark Net?\n",
    "\n",
    "The following code will show what Vendor sold the most Cannabis in terms of volume and overall sales. Note: we are only analyzing drug purchases 1K USD or less in the attempt to remove outliers and erroneous data."
   ]
  },
  {
   "cell_type": "code",
   "execution_count": 51,
   "metadata": {},
   "outputs": [
    {
     "data": {
      "text/html": [
       "<div>\n",
       "<style scoped>\n",
       "    .dataframe tbody tr th:only-of-type {\n",
       "        vertical-align: middle;\n",
       "    }\n",
       "\n",
       "    .dataframe tbody tr th {\n",
       "        vertical-align: top;\n",
       "    }\n",
       "\n",
       "    .dataframe thead th {\n",
       "        text-align: right;\n",
       "    }\n",
       "</style>\n",
       "<table border=\"1\" class=\"dataframe\">\n",
       "  <thead>\n",
       "    <tr style=\"text-align: right;\">\n",
       "      <th></th>\n",
       "      <th>Bitcoin Price</th>\n",
       "      <th>USD Price</th>\n",
       "    </tr>\n",
       "    <tr>\n",
       "      <th>Vendor</th>\n",
       "      <th></th>\n",
       "      <th></th>\n",
       "    </tr>\n",
       "  </thead>\n",
       "  <tbody>\n",
       "    <tr>\n",
       "      <th>medibuds</th>\n",
       "      <td>186.662328</td>\n",
       "      <td>139996.745635</td>\n",
       "    </tr>\n",
       "    <tr>\n",
       "      <th>SAGreat</th>\n",
       "      <td>113.794212</td>\n",
       "      <td>85345.658838</td>\n",
       "    </tr>\n",
       "    <tr>\n",
       "      <th>BudMasterGeneral</th>\n",
       "      <td>107.575393</td>\n",
       "      <td>80681.544941</td>\n",
       "    </tr>\n",
       "  </tbody>\n",
       "</table>\n",
       "</div>"
      ],
      "text/plain": [
       "                  Bitcoin Price      USD Price\n",
       "Vendor                                        \n",
       "medibuds             186.662328  139996.745635\n",
       "SAGreat              113.794212   85345.658838\n",
       "BudMasterGeneral     107.575393   80681.544941"
      ]
     },
     "execution_count": 51,
     "metadata": {},
     "output_type": "execute_result"
    }
   ],
   "source": [
    "Vendor = Cannabis.groupby('Vendor').sum()\n",
    "Vendor.sort_values(by=['USD Price'], ascending = False).head(n=3)"
   ]
  },
  {
   "cell_type": "code",
   "execution_count": 52,
   "metadata": {},
   "outputs": [
    {
     "data": {
      "text/html": [
       "<div>\n",
       "<style scoped>\n",
       "    .dataframe tbody tr th:only-of-type {\n",
       "        vertical-align: middle;\n",
       "    }\n",
       "\n",
       "    .dataframe tbody tr th {\n",
       "        vertical-align: top;\n",
       "    }\n",
       "\n",
       "    .dataframe thead th {\n",
       "        text-align: right;\n",
       "    }\n",
       "</style>\n",
       "<table border=\"1\" class=\"dataframe\">\n",
       "  <thead>\n",
       "    <tr style=\"text-align: right;\">\n",
       "      <th></th>\n",
       "      <th>Category</th>\n",
       "      <th>SubCat 1</th>\n",
       "      <th>SubCat2</th>\n",
       "      <th>Price</th>\n",
       "      <th>Bitcoin Price</th>\n",
       "      <th>USD Price</th>\n",
       "    </tr>\n",
       "    <tr>\n",
       "      <th>Vendor</th>\n",
       "      <th></th>\n",
       "      <th></th>\n",
       "      <th></th>\n",
       "      <th></th>\n",
       "      <th></th>\n",
       "      <th></th>\n",
       "    </tr>\n",
       "  </thead>\n",
       "  <tbody>\n",
       "    <tr>\n",
       "      <th>medibuds</th>\n",
       "      <td>487</td>\n",
       "      <td>487</td>\n",
       "      <td>487</td>\n",
       "      <td>487</td>\n",
       "      <td>487</td>\n",
       "      <td>487</td>\n",
       "    </tr>\n",
       "    <tr>\n",
       "      <th>StrattonOakmont</th>\n",
       "      <td>268</td>\n",
       "      <td>268</td>\n",
       "      <td>268</td>\n",
       "      <td>268</td>\n",
       "      <td>268</td>\n",
       "      <td>268</td>\n",
       "    </tr>\n",
       "    <tr>\n",
       "      <th>BudMasterGeneral</th>\n",
       "      <td>268</td>\n",
       "      <td>268</td>\n",
       "      <td>268</td>\n",
       "      <td>268</td>\n",
       "      <td>268</td>\n",
       "      <td>268</td>\n",
       "    </tr>\n",
       "  </tbody>\n",
       "</table>\n",
       "</div>"
      ],
      "text/plain": [
       "                  Category  SubCat 1  SubCat2  Price  Bitcoin Price  USD Price\n",
       "Vendor                                                                        \n",
       "medibuds               487       487      487    487            487        487\n",
       "StrattonOakmont        268       268      268    268            268        268\n",
       "BudMasterGeneral       268       268      268    268            268        268"
      ]
     },
     "execution_count": 52,
     "metadata": {},
     "output_type": "execute_result"
    }
   ],
   "source": [
    "Vendor_count = Cannabis.groupby('Vendor').count()\n",
    "Vendor_count.sort_values(by=['USD Price'], ascending = False).head(n=3)"
   ]
  },
  {
   "cell_type": "code",
   "execution_count": 53,
   "metadata": {},
   "outputs": [
    {
     "data": {
      "text/plain": [
       "0.021330646927423241"
      ]
     },
     "execution_count": 53,
     "metadata": {},
     "output_type": "execute_result"
    }
   ],
   "source": [
    "Vendor_count.loc['medibuds', 'Category'] / Cannabis['USD Price'].count()"
   ]
  },
  {
   "cell_type": "markdown",
   "metadata": {},
   "source": [
    "Findings: The Vendor Medibuds sold the most Cannabis in 2014 - 2015 in terms of overall volume and overall sales. Medibuds sold 140K USD in Cannabis and had 487 total transactions. Medibuds accounted for 2% of all Cannabis sales in 2014 - 2015. "
   ]
  },
  {
   "cell_type": "markdown",
   "metadata": {},
   "source": [
    "## Futre Research Proposal\n",
    "\n",
    "This data set is very enlightening. This data could be used by criminal law enforcement to track and potentially stop illegal drug sales on the Dark Net. For example, in this data set, we found what vendors sold the most Cannabis, the most sold drug on the Dark Net, over the course of 2014 - 2015. Law enforcement could target these vendors to curb Cannabis sales on the Dark Net. Likewise, other categories could further be expanded on. Are there categories, such as counterfeits or weapons, that law enforcement may want to target to save lives? If this data could be pulled in real time, an analyst could monitor whether there is an uptick in sales in these categories. For example, if there is an uptick in weapons sales over the course of a month, a terrorist organization may be planning an attack. "
   ]
  },
  {
   "cell_type": "code",
   "execution_count": null,
   "metadata": {},
   "outputs": [],
   "source": []
  }
 ],
 "metadata": {
  "kernelspec": {
   "display_name": "Python 3",
   "language": "python",
   "name": "python3"
  },
  "language_info": {
   "codemirror_mode": {
    "name": "ipython",
    "version": 3
   },
   "file_extension": ".py",
   "mimetype": "text/x-python",
   "name": "python",
   "nbconvert_exporter": "python",
   "pygments_lexer": "ipython3",
   "version": "3.6.4"
  }
 },
 "nbformat": 4,
 "nbformat_minor": 2
}
